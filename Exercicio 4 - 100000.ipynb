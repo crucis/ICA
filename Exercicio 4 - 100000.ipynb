{
 "cells": [
  {
   "cell_type": "markdown",
   "metadata": {},
   "source": [
    "# Exercício 4 de Análise de Componentes Independentes\n",
    "Pedro Bandeira de Mello Martins\n",
    "\n",
    "CPE 782 - Análise de Componentes Independentes\n",
    "\n",
    "\n",
    "\n",
    "Análise feita para 100000 amostras"
   ]
  },
  {
   "cell_type": "code",
   "execution_count": 1,
   "metadata": {
    "collapsed": true
   },
   "outputs": [],
   "source": [
    "import numpy as np\n",
    "import matplotlib.pyplot as plt\n",
    "from numpy.linalg import inv\n",
    "from scipy.cluster.vq import whiten\n",
    "import pandas as pd\n",
    "from pandas.plotting import scatter_matrix\n",
    "from scipy.stats import entropy, chi2_contingency, shapiro\n",
    "\n",
    "%matplotlib inline\n",
    "from evaluation import calculateNegentropy, kde_entropy, KLdivergence, resultsTable, plot_MutualInformation\n",
    "from ICAfunctions import cichocki_Feedback, cichocki_Feedforward, NPCA_RLS\n",
    "\n",
    "#Notes:\n",
    "#SHAPIRO: The algorithm used is described in [R634] but censoring parameters as \n",
    "#        described are not implemented. For N > 5000 the W test statistic is \n",
    "#        accurate but the p-value may not be."
   ]
  },
  {
   "cell_type": "code",
   "execution_count": 2,
   "metadata": {},
   "outputs": [
    {
     "data": {
      "text/plain": [
       "(0.9528943300247192, 2.2581273025256557e-17)"
      ]
     },
     "execution_count": 2,
     "metadata": {},
     "output_type": "execute_result"
    }
   ],
   "source": [
    "learning_rate = 1e-6\n",
    "gaussian_distribution = np.random.normal(0,1,1000)\n",
    "shapiro(np.random.uniform(-1,1,1000))"
   ]
  },
  {
   "cell_type": "code",
   "execution_count": null,
   "metadata": {
    "scrolled": true
   },
   "outputs": [
    {
     "name": "stdout",
     "output_type": "stream",
     "text": [
      "           0         1         2         3         4\n",
      "0  -1.878596 -2.283238  2.023197  4.188460 -0.568429\n",
      "1  -4.770146 -3.943429  3.038668  5.987318 -1.346351\n",
      "2 -12.223103 -7.609984  6.246506  9.677850 -8.188600\n",
      "3  -0.947095 -3.722046  2.863110  7.628454 -1.373400\n",
      "4  -1.803100  0.172723  0.859307  0.167935 -2.742939\n"
     ]
    }
   ],
   "source": [
    "filePath = 'https://raw.githubusercontent.com/micaelverissimo/ICA/master/FourthMixture100000Stats.txt'\n",
    "distDataFrame = pd.read_table(filePath, delimiter = '\\s+', header = None)\n",
    "mixtures = distDataFrame.values\n",
    "print(distDataFrame.T.head())"
   ]
  },
  {
   "cell_type": "code",
   "execution_count": null,
   "metadata": {},
   "outputs": [],
   "source": [
    "scatter_matrix(distDataFrame.T, alpha=0.4, diagonal = 'kde', figsize = (10,10))\n",
    "plt.show()"
   ]
  },
  {
   "cell_type": "code",
   "execution_count": null,
   "metadata": {},
   "outputs": [],
   "source": [
    "resultsTable(mixtures)"
   ]
  },
  {
   "cell_type": "markdown",
   "metadata": {},
   "source": [
    "## NPCA-RLS Algorithm"
   ]
  },
  {
   "cell_type": "code",
   "execution_count": null,
   "metadata": {
    "collapsed": true
   },
   "outputs": [],
   "source": [
    "[yNPCA, WNPCA] = NPCA_RLS(mixtures, runs = 1)"
   ]
  },
  {
   "cell_type": "code",
   "execution_count": null,
   "metadata": {},
   "outputs": [],
   "source": [
    "scatter_matrix(pd.DataFrame(yNPCA.T), alpha = 0.4, diagonal = 'kde', figsize = (10,10))\n",
    "plt.show()"
   ]
  },
  {
   "cell_type": "code",
   "execution_count": null,
   "metadata": {},
   "outputs": [],
   "source": [
    "resultsTable(yNPCA)\n",
    "plot_MutualInformation(mixtures[-1000:], y = yNPCA[-1000:], KDE = False)"
   ]
  },
  {
   "cell_type": "markdown",
   "metadata": {},
   "source": [
    "## Chichocki-Unbehauen Algorithm Feedback network"
   ]
  },
  {
   "cell_type": "code",
   "execution_count": null,
   "metadata": {
    "collapsed": true
   },
   "outputs": [],
   "source": [
    "[yFeedback, WFeedback] = cichocki_Feedback(mixtures, runs  = 1) "
   ]
  },
  {
   "cell_type": "code",
   "execution_count": null,
   "metadata": {},
   "outputs": [],
   "source": [
    "scatter_matrix(pd.DataFrame(yFeedback.T), alpha = 0.4, diagonal = 'kde', figsize = (10,10))\n",
    "plt.show()"
   ]
  },
  {
   "cell_type": "code",
   "execution_count": null,
   "metadata": {
    "scrolled": false
   },
   "outputs": [],
   "source": [
    "resultsTable(yFeedback)\n",
    "plot_MutualInformation(mixtures[-1000:], y = yFeedback[-1000:], KDE = False)"
   ]
  },
  {
   "cell_type": "markdown",
   "metadata": {},
   "source": [
    "## Chichocki-Unbehauen Algorithm Feedforward network"
   ]
  },
  {
   "cell_type": "code",
   "execution_count": null,
   "metadata": {
    "collapsed": true
   },
   "outputs": [],
   "source": [
    "[yFeedforward, WFeedforward] = cichocki_Feedforward(mixtures, learningRate = 1e-11, runs = 1)"
   ]
  },
  {
   "cell_type": "code",
   "execution_count": null,
   "metadata": {},
   "outputs": [],
   "source": [
    "scatter_matrix(pd.DataFrame(yFeedforward.T), alpha = 0.4, diagonal = 'kde', figsize = (10,10))\n",
    "plt.show()"
   ]
  },
  {
   "cell_type": "code",
   "execution_count": null,
   "metadata": {},
   "outputs": [],
   "source": [
    "resultsTable(yFeedforward)\n",
    "plot_MutualInformation(mixtures[-1000:], y = yFeedforward[-1000:], KDE = False)"
   ]
  }
 ],
 "metadata": {
  "kernelspec": {
   "display_name": "Python 3",
   "language": "python",
   "name": "python3"
  },
  "language_info": {
   "codemirror_mode": {
    "name": "ipython",
    "version": 3
   },
   "file_extension": ".py",
   "mimetype": "text/x-python",
   "name": "python",
   "nbconvert_exporter": "python",
   "pygments_lexer": "ipython3",
   "version": "3.6.1"
  },
  "widgets": {
   "application/vnd.jupyter.widget-state+json": {
    "state": {},
    "version_major": 1,
    "version_minor": 0
   }
  }
 },
 "nbformat": 4,
 "nbformat_minor": 2
}
