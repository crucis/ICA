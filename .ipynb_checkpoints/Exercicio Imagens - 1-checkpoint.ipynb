{
 "cells": [
  {
   "cell_type": "markdown",
   "metadata": {},
   "source": [
    "# Exercício 1 de Análise de Componentes Independentes em imagens\n"
   ]
  },
  {
   "cell_type": "code",
   "execution_count": null,
   "metadata": {
    "collapsed": true
   },
   "outputs": [],
   "source": [
    "import numpy as np\n",
    "import matplotlib.pyplot as plt\n",
    "from numpy.linalg import inv\n",
    "from scipy.cluster.vq import whiten\n",
    "import pandas as pd\n",
    "from pandas.plotting import scatter_matrix\n",
    "from scipy.stats import entropy, chi2_contingency, shapiro\n",
    "from scipy.misc import imread\n",
    "\n",
    "%matplotlib inline\n",
    "from evaluation import calculateNegentropy, kde_entropy, KLdivergence, resultsTable, plot_MutualInformation\n",
    "from ICAfunctions import cichocki_Feedback, cichocki_Feedforward, NPCA_RLS\n",
    "\n",
    "#Notes:\n",
    "#SHAPIRO: The algorithm used is described in [R634] but censoring parameters as \n",
    "#        described are not implemented. For N > 5000 the W test statistic is \n",
    "#        accurate but the p-value may not be."
   ]
  },
  {
   "cell_type": "code",
   "execution_count": null,
   "metadata": {
    "collapsed": true
   },
   "outputs": [],
   "source": [
    "def rebuildPicture(x, original_shape):\n",
    "    rebuilt = np.zeros(original_shape, np.float64)\n",
    "    rebuilt[:, :, 0] = np.reshape(x[:, 0], (original_shape[0], original_shape[1]))\n",
    "    rebuilt[:, :, 1] = np.reshape(x[:, 1], (original_shape[0], original_shape[1]))\n",
    "    rebuilt[:, :, 2] = np.reshape(x[:, 2], (original_shape[0], original_shape[1]))\n",
    "    \n",
    "    return rebuilt\n",
    "\n",
    "def image_histogram_equalization(image, number_bins=256):\n",
    "    # from http://www.janeriksolem.net/2009/06/histogram-equalization-with-python-and.html\n",
    "\n",
    "    # get image histogram\n",
    "    image_histogram, bins = np.histogram(image.flatten(), number_bins, normed=True)\n",
    "    cdf = image_histogram.cumsum() # cumulative distribution function\n",
    "    cdf = 255 * cdf / cdf[-1] # normalize\n",
    "\n",
    "    # use linear interpolation of cdf to find new pixel values\n",
    "    image_equalized = np.interp(image.flatten(), bins[:-1], cdf)\n",
    "\n",
    "    return image_equalized.reshape(image.shape)\n",
    "\n",
    "\n",
    "def rgb_ICA(ICA_method, mixturesRGB, learningRate):\n",
    "    y = np.zeros(mixturesRGB.shape)\n",
    "    plt.imshow(np.reshape(mixturesRGB[0,:,:], (400, 500, 3)))\n",
    "    plt.show()\n",
    "    print(mixturesRGB[0].shape)\n",
    "    \n",
    "    [y[:, :, 0], Wr] = ICA_method(mixturesRGB[:, :, 0], learningRate)\n",
    "    [y[:, :, 1], Wg] = ICA_method(mixturesRGB[:, :, 1], learningRate)\n",
    "    [y[:, :, 2], Wb] = ICA_method(mixturesRGB[:, :, 2], learningRate)\n",
    "\n",
    "    plt.imshow(rebuildPicture(y))\n",
    "    plt.show()\n",
    "    \n",
    "    W = [Wr, Wg, Wb]\n",
    "    #W = Wr\n",
    "    return y, W\n",
    "\n",
    "\n",
    "\n",
    "def read_rgb_image(folderPath, n_images = 2, n_channels = 3):\n",
    "    X1 = imread(folderPath + '\\\\1_saida.jpg', flatten = False)\n",
    "    X2 = imread(folderPath + '\\\\2_saida.jpg', flatten = False)\n",
    "    \n",
    "    mixtures = np.zeros((n_images, X1.shape[0]*X1.shape[1], n_channels), np.float64)\n",
    "\n",
    "    mixtures[0, :, 0] = X1[:,:,0].flatten()\n",
    "    mixtures[0, :, 1] = X1[:,:,1].flatten()\n",
    "    mixtures[0, :, 2] = X1[:,:,2].flatten()\n",
    "    \n",
    "    mixtures[1, :, 0] = X2[:,:,0].flatten()\n",
    "    mixtures[1, :, 1] = X2[:,:,1].flatten()\n",
    "    mixtures[1, :, 2] = X2[:,:,2].flatten()   \n",
    "    \n",
    "    original_shape = X1.shape\n",
    "\n",
    "    return mixtures, original_shape\n"
   ]
  },
  {
   "cell_type": "code",
   "execution_count": null,
   "metadata": {
    "collapsed": true
   },
   "outputs": [],
   "source": [
    "learning_rate = 1e-6\n",
    "n_images = 2"
   ]
  },
  {
   "cell_type": "code",
   "execution_count": null,
   "metadata": {},
   "outputs": [],
   "source": [
    "folderPath = 'base_imagens_ica\\\\1_run'\n",
    "mixtures, original_shape = read_rgb_image(folderPath)\n",
    "print(mixtures.shape)\n",
    "print(original_shape)\n",
    "picture = rebuildPicture(mixtures[0], original_shape)\n",
    "print(picture.shape)\n",
    "plt.imshow(-picture)"
   ]
  },
  {
   "cell_type": "code",
   "execution_count": null,
   "metadata": {},
   "outputs": [],
   "source": [
    "[yNPCA, WNPCA] = rgb_ICA(NPCA_RLS, mixtures, 0.9993)"
   ]
  },
  {
   "cell_type": "code",
   "execution_count": null,
   "metadata": {},
   "outputs": [],
   "source": [
    "print(WNPCA)\n",
    "print(mixtures.shape)\n",
    "plt.imshow(np.reshape(np.dot(WNPCA, mixtures[:,:,:])[0] ,(400,500, 3)))\n"
   ]
  },
  {
   "cell_type": "code",
   "execution_count": null,
   "metadata": {
    "collapsed": true
   },
   "outputs": [],
   "source": []
  },
  {
   "cell_type": "code",
   "execution_count": null,
   "metadata": {},
   "outputs": [],
   "source": [
    "[y, WFeedback] = rgb_ICA(cichocki_Feedback, mixtures, 1e-3)"
   ]
  },
  {
   "cell_type": "code",
   "execution_count": null,
   "metadata": {},
   "outputs": [],
   "source": [
    "plt.imshow(np.reshape(np.dot(WFeedback, mixtures[:,:,2])[1] ,(400,500)))\n",
    "print(WFeedback)"
   ]
  },
  {
   "cell_type": "code",
   "execution_count": null,
   "metadata": {
    "collapsed": true
   },
   "outputs": [],
   "source": [
    "reconstructed_yForward = np.reshape(np.dot(WForward, mixtures), (n_images, ) + original_shape)\n",
    "plt.figure(figsize = (12,12))\n",
    "if len(original_shape) == 2:\n",
    "    plt.imshow(reconstructed_yForward[0], cmap = 'gray')\n",
    "else:\n",
    "    plt.imshow(reconstructed_yForward[0])"
   ]
  },
  {
   "cell_type": "code",
   "execution_count": null,
   "metadata": {
    "collapsed": true
   },
   "outputs": [],
   "source": []
  }
 ],
 "metadata": {
  "kernelspec": {
   "display_name": "Python 3",
   "language": "python",
   "name": "python3"
  },
  "language_info": {
   "codemirror_mode": {
    "name": "ipython",
    "version": 3
   },
   "file_extension": ".py",
   "mimetype": "text/x-python",
   "name": "python",
   "nbconvert_exporter": "python",
   "pygments_lexer": "ipython3",
   "version": "3.6.1"
  },
  "widgets": {
   "application/vnd.jupyter.widget-state+json": {
    "state": {},
    "version_major": 1,
    "version_minor": 0
   }
  }
 },
 "nbformat": 4,
 "nbformat_minor": 2
}
