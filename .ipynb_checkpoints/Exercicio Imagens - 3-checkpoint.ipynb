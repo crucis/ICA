{
 "cells": [
  {
   "cell_type": "markdown",
   "metadata": {},
   "source": [
    "# Exercício 3 de Análise de Componentes Independentes em imagens\n"
   ]
  },
  {
   "cell_type": "code",
   "execution_count": 1,
   "metadata": {},
   "outputs": [],
   "source": [
    "import numpy as np\n",
    "import matplotlib.pyplot as plt\n",
    "from numpy.linalg import inv\n",
    "from scipy.cluster.vq import whiten\n",
    "import pandas as pd\n",
    "from pandas.plotting import scatter_matrix\n",
    "from scipy.stats import entropy, chi2_contingency, shapiro\n",
    "from scipy.misc import imread\n",
    "\n",
    "%matplotlib inline\n",
    "from evaluation import calculateNegentropy, kde_entropy, KLdivergence, resultsTable, plot_MutualInformation\n",
    "from ICAfunctions import cichocki_Feedback, cichocki_Feedforward, NPCA_RLS\n",
    "\n",
    "#Notes:\n",
    "#SHAPIRO: The algorithm used is described in [R634] but censoring parameters as \n",
    "#        described are not implemented. For N > 5000 the W test statistic is \n",
    "#        accurate but the p-value may not be."
   ]
  },
  {
   "cell_type": "code",
   "execution_count": 2,
   "metadata": {
    "collapsed": true
   },
   "outputs": [],
   "source": [
    "def rebuildPicture(x, original_shape):\n",
    "    rebuilt = np.zeros(original_shape, np.float64)\n",
    "    rebuilt[:, :, 0] = np.reshape(x[:, 0], (original_shape[0], original_shape[1]))\n",
    "    rebuilt[:, :, 1] = np.reshape(x[:, 1], (original_shape[0], original_shape[1]))\n",
    "    rebuilt[:, :, 2] = np.reshape(x[:, 2], (original_shape[0], original_shape[1]))\n",
    "    \n",
    "    return rebuilt\n",
    "\n",
    "def image_histogram_equalization(image, number_bins=256):\n",
    "    # from http://www.janeriksolem.net/2009/06/histogram-equalization-with-python-and.html\n",
    "\n",
    "    # get image histogram\n",
    "    image_histogram, bins = np.histogram(image.flatten(), number_bins, normed=True)\n",
    "    cdf = image_histogram.cumsum() # cumulative distribution function\n",
    "    cdf = 255 * cdf / cdf[-1] # normalize\n",
    "\n",
    "    # use linear interpolation of cdf to find new pixel values\n",
    "    image_equalized = np.interp(image.flatten(), bins[:-1], cdf)\n",
    "\n",
    "    return image_equalized.reshape(image.shape)\n",
    "\n",
    "\n",
    "def rgb_ICA(ICA_method, mixturesRGB, learningRate):\n",
    "    #y = np.zeros(mixturesRGB.shape)\n",
    "\n",
    "    print(mixturesRGB[0].shape)\n",
    "    \n",
    "    [y_r, Wr] = ICA_method(mixturesRGB[:, :, 0], learningRate)\n",
    "    [y_g, Wg] = ICA_method(mixturesRGB[:, :, 1], learningRate)\n",
    "    [y_b, Wb] = ICA_method(mixturesRGB[:, :, 2], learningRate)\n",
    "\n",
    "    y = np.dstack((y_r, y_g, y_b))\n",
    "    \n",
    "    plt.imshow(np.reshape(y[0,:,0], (400, 500)))\n",
    "    plt.show()\n",
    "    \n",
    "    W = [Wr, Wg, Wb]\n",
    "    #W = Wr\n",
    "    \n",
    "    return y, W\n",
    "\n",
    "\n",
    "\n",
    "def read_rgb_image(folderPath, n_images = 2, n_channels = 3):\n",
    "    X1 = imread(folderPath + '\\\\1_saida.jpg', flatten = False)\n",
    "    X2 = imread(folderPath + '\\\\2_saida.jpg', flatten = False)\n",
    "    X3 = imread(folderPath + '\\\\3_saida.jpg', flatten = False)\n",
    "    X4 = imread(folderPath + '\\\\4_saida.jpg', flatten = False)\n",
    "\n",
    "    \n",
    "    mixtures = np.zeros((n_images, X1.shape[0]*X1.shape[1], n_channels), np.float64)\n",
    "\n",
    "    mixtures[0, :, 0] = X1[:,:,0].flatten()\n",
    "    mixtures[0, :, 1] = X1[:,:,1].flatten()\n",
    "    mixtures[0, :, 2] = X1[:,:,2].flatten()\n",
    "    \n",
    "    mixtures[1, :, 0] = X2[:,:,0].flatten()\n",
    "    mixtures[1, :, 1] = X2[:,:,1].flatten()\n",
    "    mixtures[1, :, 2] = X2[:,:,2].flatten()\n",
    "    \n",
    "    mixtures[2, :, 0] = X2[:,:,0].flatten()\n",
    "    mixtures[2, :, 1] = X2[:,:,1].flatten()\n",
    "    mixtures[2, :, 2] = X2[:,:,2].flatten()   \n",
    "    \n",
    "    mixtures[3, :, 0] = X2[:,:,0].flatten()\n",
    "    mixtures[3, :, 1] = X2[:,:,1].flatten()\n",
    "    mixtures[3, :, 2] = X2[:,:,2].flatten()\n",
    "    \n",
    "    original_shape = X1.shape\n",
    "\n",
    "    return mixtures, original_shape\n"
   ]
  },
  {
   "cell_type": "code",
   "execution_count": 3,
   "metadata": {
    "collapsed": true
   },
   "outputs": [],
   "source": [
    "learning_rate = 1e-6\n",
    "n_images = 4"
   ]
  },
  {
   "cell_type": "code",
   "execution_count": 4,
   "metadata": {},
   "outputs": [
    {
     "name": "stdout",
     "output_type": "stream",
     "text": [
      "(4, 200000, 3)\n",
      "(400, 500, 3)\n"
     ]
    }
   ],
   "source": [
    "folderPath = 'base_imagens_ica\\\\3_run'\n",
    "mixtures, original_shape = read_rgb_image(folderPath, n_images)\n",
    "print(mixtures.shape)\n",
    "print(original_shape)"
   ]
  },
  {
   "cell_type": "code",
   "execution_count": 5,
   "metadata": {},
   "outputs": [
    {
     "ename": "NameError",
     "evalue": "name 'picture' is not defined",
     "output_type": "error",
     "traceback": [
      "\u001b[1;31m---------------------------------------------------------------------------\u001b[0m",
      "\u001b[1;31mNameError\u001b[0m                                 Traceback (most recent call last)",
      "\u001b[1;32m<ipython-input-5-888dc72721d3>\u001b[0m in \u001b[0;36m<module>\u001b[1;34m()\u001b[0m\n\u001b[0;32m      4\u001b[0m \u001b[0mpicture4\u001b[0m \u001b[1;33m=\u001b[0m \u001b[0mrebuildPicture\u001b[0m\u001b[1;33m(\u001b[0m\u001b[0mmixtures\u001b[0m\u001b[1;33m[\u001b[0m\u001b[1;36m3\u001b[0m\u001b[1;33m]\u001b[0m\u001b[1;33m,\u001b[0m \u001b[0moriginal_shape\u001b[0m\u001b[1;33m)\u001b[0m\u001b[1;33m\u001b[0m\u001b[0m\n\u001b[0;32m      5\u001b[0m \u001b[1;33m\u001b[0m\u001b[0m\n\u001b[1;32m----> 6\u001b[1;33m \u001b[0mprint\u001b[0m\u001b[1;33m(\u001b[0m\u001b[0mpicture\u001b[0m\u001b[1;33m.\u001b[0m\u001b[0mshape\u001b[0m\u001b[1;33m)\u001b[0m\u001b[1;33m\u001b[0m\u001b[0m\n\u001b[0m\u001b[0;32m      7\u001b[0m \u001b[0mfig\u001b[0m\u001b[1;33m,\u001b[0m \u001b[0maxes\u001b[0m \u001b[1;33m=\u001b[0m \u001b[0mplt\u001b[0m\u001b[1;33m.\u001b[0m\u001b[0msubplots\u001b[0m\u001b[1;33m(\u001b[0m\u001b[1;36m1\u001b[0m\u001b[1;33m,\u001b[0m\u001b[1;36m3\u001b[0m\u001b[1;33m,\u001b[0m \u001b[0mdpi\u001b[0m \u001b[1;33m=\u001b[0m \u001b[1;36m128\u001b[0m\u001b[1;33m)\u001b[0m\u001b[1;33m\u001b[0m\u001b[0m\n\u001b[0;32m      8\u001b[0m \u001b[0maxes\u001b[0m\u001b[1;33m[\u001b[0m\u001b[1;36m0\u001b[0m\u001b[1;33m]\u001b[0m\u001b[1;33m.\u001b[0m\u001b[0mimshow\u001b[0m\u001b[1;33m(\u001b[0m\u001b[1;33m-\u001b[0m\u001b[0mpicture1\u001b[0m\u001b[1;33m)\u001b[0m\u001b[1;33m\u001b[0m\u001b[0m\n",
      "\u001b[1;31mNameError\u001b[0m: name 'picture' is not defined"
     ]
    }
   ],
   "source": [
    "picture1 = rebuildPicture(mixtures[0], original_shape)\n",
    "picture2 = rebuildPicture(mixtures[1], original_shape)\n",
    "picture3 = rebuildPicture(mixtures[2], original_shape)\n",
    "picture4 = rebuildPicture(mixtures[3], original_shape)\n",
    "\n",
    "fig, axes = plt.subplots(1,3, dpi = 128)\n",
    "axes[0].imshow(-picture1)\n",
    "axes[1].imshow(-picture2)\n",
    "axes[2].imshow(-picture3)\n",
    "axes[3].imshow(-picture4)\n",
    "\n",
    "fig.axis('off')\n",
    "\n",
    "fig.tight_layout()"
   ]
  },
  {
   "cell_type": "markdown",
   "metadata": {},
   "source": [
    "## NPCA-RLS Algorithm"
   ]
  },
  {
   "cell_type": "code",
   "execution_count": null,
   "metadata": {
    "scrolled": false
   },
   "outputs": [],
   "source": [
    "[yNPCA, WNPCA] = rgb_ICA(NPCA_RLS, mixtures, (1/1+1e-26))"
   ]
  },
  {
   "cell_type": "code",
   "execution_count": null,
   "metadata": {
    "collapsed": true
   },
   "outputs": [],
   "source": [
    "fig, axes = plt.subplots(1,4, dpi = 128+64)\n",
    "fig.axis('off')\n",
    "axes[0].imshow(np.reshape(yNPCA[0,:,1], (400,500)), cmap = 'gray')\n",
    "axes[1].imshow(np.reshape(yNPCA[1,:,1], (400,500)), cmap = 'gray')\n",
    "axes[2].imshow(np.reshape(-yNPCA[2,:,1], (400,500)), cmap = 'gray')\n",
    "axes[3].imshow(np.reshape(-yNPCA[3,:,1], (400,500)), cmap = 'gray')\n",
    "fig.tight_layout()"
   ]
  },
  {
   "cell_type": "markdown",
   "metadata": {},
   "source": [
    "## Cichocki-Unbehauen Algorithm Feedback Network"
   ]
  },
  {
   "cell_type": "code",
   "execution_count": null,
   "metadata": {},
   "outputs": [],
   "source": [
    "[yFeedback, WFeedback] = rgb_ICA(cichocki_Feedback, mixtures, 1e-5)"
   ]
  },
  {
   "cell_type": "code",
   "execution_count": null,
   "metadata": {},
   "outputs": [],
   "source": [
    "fig, axes = plt.subplots(1,4, dpi = 128+64)\n",
    "fig.axis('off')\n",
    "\n",
    "axes[0].imshow(np.reshape(yFeedback[0,:,1], (400,500)), cmap = 'gray')\n",
    "axes[1].imshow(np.reshape(yFeedback[1,:,1], (400,500)), cmap = 'gray')\n",
    "axes[2].imshow(np.reshape(-yFeedback[2,:,1], (400,500)), cmap = 'gray')\n",
    "axes[2].imshow(np.reshape(-yFeedback[3,:,1], (400,500)), cmap = 'gray')\n",
    "fig.tight_layout()"
   ]
  },
  {
   "cell_type": "markdown",
   "metadata": {},
   "source": [
    "## Cichocki-Unbehauen Algorithm Feedforward Network"
   ]
  },
  {
   "cell_type": "code",
   "execution_count": null,
   "metadata": {},
   "outputs": [],
   "source": [
    "[yFeedForward, WFeedforward] = rgb_ICA(cichocki_Feedforward, mixtures, 1e-8)"
   ]
  },
  {
   "cell_type": "code",
   "execution_count": null,
   "metadata": {},
   "outputs": [],
   "source": [
    "fig, axes = plt.subplots(1,4, dpi = 128+64)\n",
    "fig.axis('off')\n",
    "\n",
    "axes[0].imshow(np.reshape(yFeedForward[0,:,1], (400,500)), cmap = 'gray')\n",
    "axes[1].imshow(np.reshape(yFeedForward[1,:,1], (400,500)), cmap = 'gray')\n",
    "axes[2].imshow(np.reshape(-yFeedForward[2,:,1], (400,500)), cmap = 'gray')\n",
    "axes[3].imshow(np.reshape(-yFeedForward[3,:,1], (400,500)), cmap = 'gray')\n",
    "fig.tight_layout()"
   ]
  },
  {
   "cell_type": "code",
   "execution_count": null,
   "metadata": {
    "collapsed": true
   },
   "outputs": [],
   "source": []
  }
 ],
 "metadata": {
  "kernelspec": {
   "display_name": "Python 3",
   "language": "python",
   "name": "python3"
  },
  "language_info": {
   "codemirror_mode": {
    "name": "ipython",
    "version": 3
   },
   "file_extension": ".py",
   "mimetype": "text/x-python",
   "name": "python",
   "nbconvert_exporter": "python",
   "pygments_lexer": "ipython3",
   "version": "3.6.1"
  },
  "widgets": {
   "application/vnd.jupyter.widget-state+json": {
    "state": {},
    "version_major": 1,
    "version_minor": 0
   }
  }
 },
 "nbformat": 4,
 "nbformat_minor": 2
}
